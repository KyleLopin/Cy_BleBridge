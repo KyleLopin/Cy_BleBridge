{
 "cells": [
  {
   "cell_type": "code",
   "execution_count": 1,
   "metadata": {
    "collapsed": false
   },
   "outputs": [],
   "source": [
    "import serial\n",
    "import time\n",
    "import binascii\n",
    "from struct import *\n",
    "class CySmart:\n",
    "    Commands = {\n",
    "        'CMD_Resolve_and_Set_Peer_Device_BD_Address':binascii.unhexlify(\"A1FE\"),\n",
    "        'CMD_Hedder':binascii.unhexlify(\"4359\"),\n",
    "        'CMD_Footer':binascii.unhexlify(\"0000\"),\n",
    "        'CMD_INIT_BLE_STACK':binascii.unhexlify(\"07FC\"),\n",
    "        'CMD_START_SCAN':binascii.unhexlify(\"93FE\"),\n",
    "        'CMD_STOP_SCAN':binascii.unhexlify(\"94FE\"),\n",
    "        'CMD_ESTABLISH_CONNECTION':binascii.unhexlify(\"97FE\"),\n",
    "        'CMD_TERMINATE_CONNECTION':binascii.unhexlify(\"98FE\"),\n",
    "        'CMD_EXCHANGE_GATT_MTU_SIZE':binascii.unhexlify(\"12FE\"),\n",
    "        'CMD_READ_CHARACTERISTIC_VALUE':binascii.unhexlify(\"06FE\"),\n",
    "        'CMD_READ_USING_CHARACTERISTIC_UUID':binascii.unhexlify(\"07FE\"),Flag_Exchange_RETURN\n",
    "        'CMD_WRITE_CHARACTERISTIC_VALUE':binascii.unhexlify(\"0BFE\"),\n",
    "        'CMD_WRITE_CHARACTERISTIC_VALUE_WITHOUT_RESPONSE':binascii.unhexlify(\"0AFE\"),\n",
    "        'CMD_FIND_INCLUDED_SERVICES':binascii.unhexlify(\"02FE\"),\n",
    "        'CMD_DISCOVER_ALL_CHARACTERISTICS':binascii.unhexlify(\"03FE\"),\n",
    "        'CMD_INITIATE_PAIRING_REQUEST':binascii.unhexlify(\"99FE\"),\n",
    "        'CMD_UPDATE_CONNECTION_PARAMETER_RESPONSE':binascii.unhexlify(\"9FFE\")\n",
    "    }\n",
    "    \n",
    "    \n",
    "    \n",
    "    Flag_DISABLE_ALL_CHECK = 0x00\n",
    "    Flag_CHECK_PARAMETER_LENGTH = 0x1\n",
    "    Flag_IMMEDIATE_RESPONSE = 0x2\n",
    "    Flag_API_RETURN = 0x4\n",
    "    Flag_Exchange_RETURN = 0x3\n",
    "    Flag_TRIGGER_COMPLETE = 0x8\n",
    "    Flag_SECONDARY_CMD = 0x10\n",
    "    \n",
    "    CYSMT_EVT_HEADER_CODE = binascii.unhexlify(\"BDA7\")\n",
    "    EVT_SCAN_PROGRESS_RESULT = binascii.unhexlify(\"8A06\")\n",
    "    EVT_COMMAND_STATUS =  binascii.unhexlify(\"7E04\")\n",
    "    EVT_COMMAND_COMPLETE =  binascii.unhexlify(\"7F04\")\n",
    "    EVT_READ_CHARACTERISTIC_VALUE_RESPONSE  =  binascii.unhexlify(\"0606\")\n",
    "\n",
    "    def __init__(self):\n",
    "        pass\n",
    "\n",
    "    def start(self,flag, ComPort='\\\\.\\COM6' ):\n",
    "        self.serin = serial.Serial(ComPort, 115200, timeout=3)\n",
    "        self.serin.isOpen()\n",
    "        self.Flag_RETURN = flag\n",
    "        \n",
    "        \n",
    "                 \n",
    "    def hexPrint(self,s):\n",
    "        if type(s) is not int:\n",
    "            return \":\".join(\"{:02x}\".format(ord(c)) for c in s)\n",
    "        return \"{:02x}\".format(s)\n",
    "    \n",
    "    def hexArray(self,s):\n",
    "        return self.hexPrint(s).split(\":\")\n",
    "    \n",
    "    def sendCommand(self,command, hedder = True, footer = True,whateforCompleate =True):\n",
    "        cmd = \"\"\n",
    "        if hedder:\n",
    "            cmd += self.Commands['CMD_Hedder']\n",
    "        cmd += command\n",
    "        \n",
    "        if footer:\n",
    "            cmd+= self.Commands['CMD_Footer']\n",
    "        \n",
    "        self.serin.write(cmd)\n",
    "        self.serin.flush()\n",
    "        time.sleep(.1)\n",
    "        #print \"wating for output:\"+self.hexPrint(command)\n",
    "        return self.prossesOutput(whateforCompleate)\n",
    "    \n",
    "    \n",
    "    def prossesOutput(self,whateforCompleate):\n",
    "        payloads = {}\n",
    "        time.sleep(.1)\n",
    "        timoutTime = 3\n",
    "        while 1 :\n",
    "            while self.serin.inWaiting() < 2 and timout < timoutTime:\n",
    "                time.sleep(.05)\n",
    "                timout +=.05\n",
    "            \n",
    "            if(self.serin.inWaiting() < 2 and timout >= timoutTime):\n",
    "                return payloads\n",
    "            else:\n",
    "                timout = 0\n",
    "            \n",
    "            hedderTest = self.serin.read(2)\n",
    "           \n",
    "            if self.CYSMT_EVT_HEADER_CODE in hedderTest:\n",
    "                #Have Hedder message\n",
    "                mesageLen = self.serin.read(2)\n",
    "                mesageLen = unpack('h',mesageLen)[0]\n",
    "                message = self.serin.read(mesageLen)\n",
    "            \n",
    "                if len(message) > 4:\n",
    "                    #print \"have message\"\n",
    "                    \n",
    "                    #print self.hexArray(message) \n",
    "                    \n",
    "                    event, command = unpack('2s2s', message[0:4])\n",
    "                    \n",
    "                            \n",
    "                    if event not in self.EVT_COMMAND_STATUS and event not in self.EVT_COMMAND_COMPLETE:\n",
    "                        body = message[4:]\n",
    "                        if event not in payloads:\n",
    "                             payloads[event] = []      \n",
    "                        payloads[event].append(body)\n",
    "                        \n",
    "                        \n",
    "                    if whateforCompleate == True:\n",
    "                       \n",
    "                        if event in self.EVT_COMMAND_COMPLETE:\n",
    "                            #print \"Compleat\"\n",
    "                            return payloads\n",
    "                    else:\n",
    "                        #print \"Dont whateforCompleate\"  \n",
    "                        if event not in self.EVT_COMMAND_STATUS:\n",
    "                             return payloads\n",
    "        return payloads\n",
    "        \n",
    "    def getScanData(self,cyd):\n",
    "        Ble = {'address':[], 'name':\"\"}\n",
    "        \n",
    "        if self.EVT_SCAN_PROGRESS_RESULT in cyd:\n",
    "            for scan in cyd[self.EVT_SCAN_PROGRESS_RESULT]:\n",
    "                if len(scan) > 10:\n",
    "                    inputString = scan\n",
    "                    Ble['address'] = inputString[1:6]\n",
    "                    if '\\t' in inputString:\n",
    "                        nm_length=  int(self.hexArray(inputString.split('\\t')[0])[-1],16)-1\n",
    "                        Ble['name'] = inputString.split('\\t')[1][0:nm_length]\n",
    "        return Ble\n",
    "    \n",
    "    \n",
    "    def openConection(self,address):\n",
    "        out = {'CMD_Resolve_and_Set_Peer_Device_BD_Address':{},\n",
    "               'CMD_ESTABLISH_CONNECTION':{},\n",
    "               'EXCHANGE_GATT_MTU_SIZE':{},\n",
    "               'Read_using_Characteristic_UUID':{}\n",
    "               }\n",
    "        \n",
    "        cmd = self.Commands['CMD_Resolve_and_Set_Peer_Device_BD_Address']+ binascii.unhexlify(\"0700\") +address \n",
    "        out['CMD_Resolve_and_Set_Peer_Device_BD_Address'] = self.sendCommand(cmd)\n",
    "        \n",
    "        cmd = self.Commands['CMD_ESTABLISH_CONNECTION'] + binascii.unhexlify(\"0700\") +address\n",
    "        out['CMD_ESTABLISH_CONNECTION'] = self.sendCommand(cmd)\n",
    "        \n",
    "        out['EXCHANGE_GATT_MTU_SIZE'] = self.EXCHANGE_GATT_MTU_SIZE(0x0200)\n",
    "        \n",
    "        out['Read_using_Characteristic_UUID'] = self.Read_using_Characteristic_UUID(0x0001,0xFFFF,0x2A00)\n",
    "        return out\n",
    "        \n",
    "    def close_Conection(self):\n",
    "        cmd = self.Commands['CMD_TERMINATE_CONNECTION']\n",
    "        cmd += binascii.unhexlify(\"02000400\")\n",
    "        return self.sendCommand(cmd)\n",
    "    \n",
    "    def _RETURN(self,pack,prams):\n",
    "        values = (self.Flag_RETURN,)\n",
    "        if type(prams) == tuple and type(pack) == str:\n",
    "             values += prams\n",
    "                \n",
    "        pack = '=H '+ pack\n",
    "        s = Struct(pack)\n",
    "        packed_data = s.pack(*values)\n",
    "        h=Struct('H')\n",
    "        packsize = h.pack(s.size) \n",
    "        packed_data = packsize + packed_data\n",
    "        return packed_data\n",
    "    \n",
    "    def EXCHANGE_GATT_MTU_SIZE(self,size):\n",
    "        cmd = self.Commands['CMD_EXCHANGE_GATT_MTU_SIZE']\n",
    "        \n",
    "        cmd += self._RETURN('H',(0x200,))\n",
    "        print self.hexArray(cmd)\n",
    "        return self.sendCommand(cmd,footer=False)\n",
    "    \n",
    "    def Read_using_Characteristic_UUID(self,Start_Handle,End_Handle,UUID):\n",
    "        cmd = self.Commands['CMD_READ_USING_CHARACTERISTIC_UUID']\n",
    "        #cmd += self._RETURN('H H H H',(0x100, UUID, Start_Handle, End_Handle))\n",
    "        cmd += self._RETURN('B H H H',(0x01, UUID, Start_Handle, End_Handle))\n",
    "        return self.sendCommand(cmd,footer=False)\n",
    "    \n",
    "    def Read_Characteristic_Value(self,Attribute):\n",
    "        cmd = self.Commands['CMD_READ_CHARACTERISTIC_VALUE']\n",
    "        cmd += pack('H H H',*(self.Flag_RETURN, ReturnFlag, Attribute ))\n",
    "        Response = self.sendCommand(cmd,footer=False)\n",
    "        print\"Read_Characteristic_Value: \",Response\n",
    "        #event, rest = Response[0:3], Response[4:]\n",
    "        out_Response = []\n",
    "        if self.EVT_READ_CHARACTERISTIC_VALUE_RESPONSE in Response:\n",
    "                for cs in  Response[self.EVT_READ_CHARACTERISTIC_VALUE_RESPONSE]:\n",
    "                    out_Response.append(cs[4:])\n",
    "                    \n",
    "        return out_Response\n",
    "    \n",
    "    def Write_Characteristic_Value(self,Attribute,payload):\n",
    "        pramcount = binascii.unhexlify(\"0300\")\n",
    "        le = len(payload)\n",
    "        package = pramcount+pack(\"H\",*(Attribute,))+pack(\"H\",*(le,))+payload\n",
    "        package = pack(\"H\",*(len(package),)) + package\n",
    "        cmd = self.Commands['CMD_WRITE_CHARACTERISTIC_VALUE']\n",
    "        cmd += package\n",
    "        return self.sendCommand(cmd,footer=False)\n",
    "    \n",
    "    def Read_All_characteristics(self,data_set):\n",
    "        for se in data_set:\n",
    "            data_set[se] = self.Read_Characteristic_Value(se)\n",
    "        return data_set\n",
    "    \n",
    "    def Initiate_Pairing(self):\n",
    "        cmd = self.Commands['CMD_INITIATE_PAIRING_REQUEST']\n",
    "        cmd += pack('H H',*(self.Flag_IMMEDIATE_RESPONSE, self.Flag_RETURN ))\n",
    "        return self.sendCommand(cmd,footer=False)\n",
    "    \n",
    "    def Update_Connection_Parameter(self,Response):\n",
    "        cmd = self.Commands['CMD_UPDATE_CONNECTION_PARAMETER_RESPONSE']\n",
    "        if Response:\n",
    "            cmd += binascii.unhexlify(\"040003000000\")\n",
    "        else:\n",
    "            cmd += binascii.unhexlify(\"040003000100\")\n",
    "            \n",
    "        return self.sendCommand(cmd,footer=False)\n",
    "    \n",
    "    def close(self):\n",
    "        self.serin.close()\n",
    "        \n",
    "        \n",
    "\n",
    "cy = CySmart()\n",
    "\n"
   ]
  },
  {
   "cell_type": "code",
   "execution_count": null,
   "metadata": {
    "collapsed": false
   },
   "outputs": [],
   "source": []
  },
  {
   "cell_type": "code",
   "execution_count": 3,
   "metadata": {
    "collapsed": false
   },
   "outputs": [
    {
     "ename": "SerialException",
     "evalue": "could not open port 'COM4': WindowsError(2, 'The system cannot find the file specified.')",
     "output_type": "error",
     "traceback": [
      "\u001b[1;31m---------------------------------------------------------------------------\u001b[0m",
      "\u001b[1;31mSerialException\u001b[0m                           Traceback (most recent call last)",
      "\u001b[1;32m<ipython-input-3-684425c7b7f2>\u001b[0m in \u001b[0;36m<module>\u001b[1;34m()\u001b[0m\n\u001b[0;32m      1\u001b[0m \u001b[1;33m\u001b[0m\u001b[0m\n\u001b[0;32m      2\u001b[0m \u001b[1;31m#cy.start(cy.Flag_API_RETURN)\u001b[0m\u001b[1;33m\u001b[0m\u001b[1;33m\u001b[0m\u001b[0m\n\u001b[1;32m----> 3\u001b[1;33m \u001b[0mcy\u001b[0m\u001b[1;33m.\u001b[0m\u001b[0mstart\u001b[0m\u001b[1;33m(\u001b[0m\u001b[0mcy\u001b[0m\u001b[1;33m.\u001b[0m\u001b[0mFlag_Exchange_RETURN\u001b[0m\u001b[1;33m)\u001b[0m\u001b[1;33m\u001b[0m\u001b[0m\n\u001b[0m\u001b[0;32m      4\u001b[0m \u001b[1;33m\u001b[0m\u001b[0m\n\u001b[0;32m      5\u001b[0m \u001b[0mcy\u001b[0m\u001b[1;33m.\u001b[0m\u001b[0msendCommand\u001b[0m\u001b[1;33m(\u001b[0m\u001b[0mcy\u001b[0m\u001b[1;33m.\u001b[0m\u001b[0mCommands\u001b[0m\u001b[1;33m[\u001b[0m\u001b[1;34m'CMD_INIT_BLE_STACK'\u001b[0m\u001b[1;33m]\u001b[0m\u001b[1;33m)\u001b[0m\u001b[1;33m\u001b[0m\u001b[0m\n",
      "\u001b[1;32m<ipython-input-1-63fb43d8bd29>\u001b[0m in \u001b[0;36mstart\u001b[1;34m(self, ComPort, Fl_RETURN)\u001b[0m\n\u001b[0;32m     44\u001b[0m \u001b[1;33m\u001b[0m\u001b[0m\n\u001b[0;32m     45\u001b[0m     \u001b[1;32mdef\u001b[0m \u001b[0mstart\u001b[0m\u001b[1;33m(\u001b[0m\u001b[0mself\u001b[0m\u001b[1;33m,\u001b[0m \u001b[0mComPort\u001b[0m\u001b[1;33m=\u001b[0m\u001b[1;34m'\\\\.\\COM6'\u001b[0m\u001b[1;33m,\u001b[0m\u001b[0mFl_RETURN\u001b[0m \u001b[1;33m=\u001b[0m\u001b[1;36m0x4\u001b[0m \u001b[1;33m)\u001b[0m\u001b[1;33m:\u001b[0m\u001b[1;33m\u001b[0m\u001b[0m\n\u001b[1;32m---> 46\u001b[1;33m         \u001b[0mself\u001b[0m\u001b[1;33m.\u001b[0m\u001b[0mserin\u001b[0m \u001b[1;33m=\u001b[0m \u001b[0mserial\u001b[0m\u001b[1;33m.\u001b[0m\u001b[0mSerial\u001b[0m\u001b[1;33m(\u001b[0m\u001b[0mComPort\u001b[0m\u001b[1;33m,\u001b[0m \u001b[1;36m115200\u001b[0m\u001b[1;33m,\u001b[0m \u001b[0mtimeout\u001b[0m\u001b[1;33m=\u001b[0m\u001b[1;36m3\u001b[0m\u001b[1;33m)\u001b[0m\u001b[1;33m\u001b[0m\u001b[0m\n\u001b[0m\u001b[0;32m     47\u001b[0m         \u001b[0mself\u001b[0m\u001b[1;33m.\u001b[0m\u001b[0mserin\u001b[0m\u001b[1;33m.\u001b[0m\u001b[0misOpen\u001b[0m\u001b[1;33m(\u001b[0m\u001b[1;33m)\u001b[0m\u001b[1;33m\u001b[0m\u001b[0m\n\u001b[0;32m     48\u001b[0m         \u001b[0mself\u001b[0m\u001b[1;33m.\u001b[0m\u001b[0mFlag_RETURN\u001b[0m \u001b[1;33m=\u001b[0m \u001b[0mFl_RETURN\u001b[0m\u001b[1;33m\u001b[0m\u001b[0m\n",
      "\u001b[1;32mC:\\Anaconda\\lib\\site-packages\\serial\\serialwin32.pyc\u001b[0m in \u001b[0;36m__init__\u001b[1;34m(self, *args, **kwargs)\u001b[0m\n\u001b[0;32m     36\u001b[0m \u001b[1;33m\u001b[0m\u001b[0m\n\u001b[0;32m     37\u001b[0m \u001b[1;33m\u001b[0m\u001b[0m\n\u001b[1;32m---> 38\u001b[1;33m         \u001b[0mSerialBase\u001b[0m\u001b[1;33m.\u001b[0m\u001b[0m__init__\u001b[0m\u001b[1;33m(\u001b[0m\u001b[0mself\u001b[0m\u001b[1;33m,\u001b[0m \u001b[1;33m*\u001b[0m\u001b[0margs\u001b[0m\u001b[1;33m,\u001b[0m \u001b[1;33m**\u001b[0m\u001b[0mkwargs\u001b[0m\u001b[1;33m)\u001b[0m\u001b[1;33m\u001b[0m\u001b[0m\n\u001b[0m\u001b[0;32m     39\u001b[0m \u001b[1;33m\u001b[0m\u001b[0m\n\u001b[0;32m     40\u001b[0m     \u001b[1;32mdef\u001b[0m \u001b[0mopen\u001b[0m\u001b[1;33m(\u001b[0m\u001b[0mself\u001b[0m\u001b[1;33m)\u001b[0m\u001b[1;33m:\u001b[0m\u001b[1;33m\u001b[0m\u001b[0m\n",
      "\u001b[1;32mC:\\Anaconda\\lib\\site-packages\\serial\\serialutil.pyc\u001b[0m in \u001b[0;36m__init__\u001b[1;34m(self, port, baudrate, bytesize, parity, stopbits, timeout, xonxoff, rtscts, writeTimeout, dsrdtr, interCharTimeout)\u001b[0m\n\u001b[0;32m    280\u001b[0m \u001b[1;33m\u001b[0m\u001b[0m\n\u001b[0;32m    281\u001b[0m         \u001b[1;32mif\u001b[0m \u001b[0mport\u001b[0m \u001b[1;32mis\u001b[0m \u001b[1;32mnot\u001b[0m \u001b[0mNone\u001b[0m\u001b[1;33m:\u001b[0m\u001b[1;33m\u001b[0m\u001b[0m\n\u001b[1;32m--> 282\u001b[1;33m             \u001b[0mself\u001b[0m\u001b[1;33m.\u001b[0m\u001b[0mopen\u001b[0m\u001b[1;33m(\u001b[0m\u001b[1;33m)\u001b[0m\u001b[1;33m\u001b[0m\u001b[0m\n\u001b[0m\u001b[0;32m    283\u001b[0m \u001b[1;33m\u001b[0m\u001b[0m\n\u001b[0;32m    284\u001b[0m     \u001b[1;32mdef\u001b[0m \u001b[0misOpen\u001b[0m\u001b[1;33m(\u001b[0m\u001b[0mself\u001b[0m\u001b[1;33m)\u001b[0m\u001b[1;33m:\u001b[0m\u001b[1;33m\u001b[0m\u001b[0m\n",
      "\u001b[1;32mC:\\Anaconda\\lib\\site-packages\\serial\\serialwin32.pyc\u001b[0m in \u001b[0;36mopen\u001b[1;34m(self)\u001b[0m\n\u001b[0;32m     64\u001b[0m         \u001b[1;32mif\u001b[0m \u001b[0mself\u001b[0m\u001b[1;33m.\u001b[0m\u001b[0mhComPort\u001b[0m \u001b[1;33m==\u001b[0m \u001b[0mwin32\u001b[0m\u001b[1;33m.\u001b[0m\u001b[0mINVALID_HANDLE_VALUE\u001b[0m\u001b[1;33m:\u001b[0m\u001b[1;33m\u001b[0m\u001b[0m\n\u001b[0;32m     65\u001b[0m             \u001b[0mself\u001b[0m\u001b[1;33m.\u001b[0m\u001b[0mhComPort\u001b[0m \u001b[1;33m=\u001b[0m \u001b[0mNone\u001b[0m    \u001b[1;31m# 'cause __del__ is called anyway\u001b[0m\u001b[1;33m\u001b[0m\u001b[0m\n\u001b[1;32m---> 66\u001b[1;33m             \u001b[1;32mraise\u001b[0m \u001b[0mSerialException\u001b[0m\u001b[1;33m(\u001b[0m\u001b[1;34m\"could not open port %r: %r\"\u001b[0m \u001b[1;33m%\u001b[0m \u001b[1;33m(\u001b[0m\u001b[0mself\u001b[0m\u001b[1;33m.\u001b[0m\u001b[0mportstr\u001b[0m\u001b[1;33m,\u001b[0m \u001b[0mctypes\u001b[0m\u001b[1;33m.\u001b[0m\u001b[0mWinError\u001b[0m\u001b[1;33m(\u001b[0m\u001b[1;33m)\u001b[0m\u001b[1;33m)\u001b[0m\u001b[1;33m)\u001b[0m\u001b[1;33m\u001b[0m\u001b[0m\n\u001b[0m\u001b[0;32m     67\u001b[0m \u001b[1;33m\u001b[0m\u001b[0m\n\u001b[0;32m     68\u001b[0m         \u001b[1;32mtry\u001b[0m\u001b[1;33m:\u001b[0m\u001b[1;33m\u001b[0m\u001b[0m\n",
      "\u001b[1;31mSerialException\u001b[0m: could not open port 'COM4': WindowsError(2, 'The system cannot find the file specified.')"
     ]
    }
   ],
   "source": [
    "\n",
    "#cy.start(cy.Flag_API_RETURN)\n",
    "cy.start(cy.Flag_Exchange_RETURN)\n",
    "\n",
    "cy.sendCommand(cy.Commands['CMD_INIT_BLE_STACK'])\n",
    "cyd= cy.sendCommand(cy.Commands['CMD_START_SCAN'],whateforCompleate=False)\n",
    "time.sleep(5)\n",
    "cy.sendCommand(cy.Commands['CMD_STOP_SCAN'])\n",
    "\n",
    "if cy.EVT_SCAN_PROGRESS_RESULT in cyd:\n",
    "    client = cy.getScanData(cyd)\n",
    "    print client['name'] , cy.hexArray(client['address'])\n",
    "    print cy.openConection(client['address'])\n",
    "    #print cy.Update_Connection_Parameter(False)\n",
    "    #cy.Initiate_Pairing()\n",
    "        \n",
    "\n",
    "    #print cy.Read_Characteristic_Value(0x000E)\n",
    "    #print cy.Write_Characteristic_Value(0x000E,binascii.unhexlify(\"01020304\"))\n",
    "    #print cy.Read_Characteristic_Value(0x000E)\n",
    "    cy.close_Conection()\n",
    "else:\n",
    "     print \"nothing found:\"\n",
    "cy.close()\n"
   ]
  },
  {
   "cell_type": "code",
   "execution_count": 6,
   "metadata": {
    "collapsed": false
   },
   "outputs": [
    {
     "ename": "IndentationError",
     "evalue": "unexpected indent (<ipython-input-6-679d4f252d9b>, line 2)",
     "output_type": "error",
     "traceback": [
      "\u001b[1;36m  File \u001b[1;32m\"<ipython-input-6-679d4f252d9b>\"\u001b[1;36m, line \u001b[1;32m2\u001b[0m\n\u001b[1;33m    data_set = {0x0003:{},\u001b[0m\n\u001b[1;37m    ^\u001b[0m\n\u001b[1;31mIndentationError\u001b[0m\u001b[1;31m:\u001b[0m unexpected indent\n"
     ]
    }
   ],
   "source": [
    "\n",
    "    data_set = {0x0003:{},\n",
    "                    0x0005:{},\n",
    "                    0x0007:{},\n",
    "                    0x000A:{},\n",
    "                    0x000E:{},\n",
    "                    0x0010:{},\n",
    "                    0x0014:{},\n",
    "                    0x0018:{},\n",
    "                    0x001D:{},\n",
    "                    0x001F:{},\n",
    "                    0x0022:{}\n",
    "                    }\n",
    "    \n",
    "    allcs =  cy.Read_All_characteristics(data_set)\n",
    "    for cs in allcs:\n",
    "        print cy.hexPrint(cs), allcs[cs]"
   ]
  },
  {
   "cell_type": "code",
   "execution_count": 14,
   "metadata": {
    "collapsed": false
   },
   "outputs": [
    {
     "name": "stdout",
     "output_type": "stream",
     "text": [
      "1d2a0550a0\n"
     ]
    }
   ],
   "source": [
    "test = ['1d', '2a', '05', '50', 'a0']\n",
    "print"
   ]
  },
  {
   "cell_type": "code",
   "execution_count": 19,
   "metadata": {
    "collapsed": false
   },
   "outputs": [
    {
     "name": "stdout",
     "output_type": "stream",
     "text": [
      "Original values: 4\n",
      "Format string  : H H H\n",
      "Uses           : 6 bytes\n",
      "Packed Value   : 040004000700\n",
      "040004000700\n"
     ]
    }
   ],
   "source": [
    "\n",
    "\n",
    "s=Struct('H H H')\n",
    "packed_data= s.pack(*(cy.Flag_API_RETURN,cy.Flag_API_RETURN,0x0007))\n",
    "\n",
    "print 'Original values:', cy.Flag_API_RETURN\n",
    "print 'Format string  :', s.format\n",
    "print 'Uses           :', s.size, 'bytes'\n",
    "print 'Packed Value   :', binascii.hexlify(packed_data)\n",
    "#packed_data =  pack('=H',s.size)  + packed_data\n",
    "print binascii.hexlify(packed_data)\n",
    "\n"
   ]
  },
  {
   "cell_type": "code",
   "execution_count": 21,
   "metadata": {
    "collapsed": false
   },
   "outputs": [
    {
     "name": "stdout",
     "output_type": "stream",
     "text": [
      "3\n",
      "5\n",
      "7\n",
      "10\n",
      "14\n",
      "16\n",
      "20\n",
      "24\n",
      "29\n",
      "31\n",
      "34\n",
      "{3: {1: 'test'}, 5: {1: 'test'}, 7: {1: 'test'}, 10: {1: 'test'}, 14: {1: 'test'}, 16: {1: 'test'}, 20: {1: 'test'}, 24: {1: 'test'}, 29: {1: 'test'}, 31: {1: 'test'}, 34: {1: 'test'}}\n"
     ]
    }
   ],
   "source": [
    "data_set = {0x0003:{},\n",
    "                    0x0005:{},\n",
    "                    0x0007:{},\n",
    "                    0x000A:{},\n",
    "                    0x000E:{},\n",
    "                    0x0010:{},\n",
    "                    0x0014:{},\n",
    "                    0x0018:{},\n",
    "                    0x001D:{},\n",
    "                    0x001F:{},\n",
    "                    0x0022:{}\n",
    "                    }\n",
    "for se in data_set:\n",
    "    print se\n",
    "    data_set[se] = {1:'test'}\n",
    "print data_set"
   ]
  },
  {
   "cell_type": "code",
   "execution_count": 19,
   "metadata": {
    "collapsed": false
   },
   "outputs": [
    {
     "name": "stdout",
     "output_type": "stream",
     "text": [
      "0a0003000e00040001020304\n"
     ]
    }
   ],
   "source": [
    "import binascii\n",
    "from struct import *\n",
    "\n",
    "#4359 0BFE 0A00 0300 0E00 0400 01020304\n",
    "#               0300 0e00 0400 01020304\n",
    "\n",
    "\n",
    "print binascii.hexlify(package)\n",
    "\n"
   ]
  },
  {
   "cell_type": "code",
   "execution_count": null,
   "metadata": {
    "collapsed": true
   },
   "outputs": [],
   "source": []
  }
 ],
 "metadata": {
  "kernelspec": {
   "display_name": "Python 2",
   "language": "python",
   "name": "python2"
  },
  "language_info": {
   "codemirror_mode": {
    "name": "ipython",
    "version": 2
   },
   "file_extension": ".py",
   "mimetype": "text/x-python",
   "name": "python",
   "nbconvert_exporter": "python",
   "pygments_lexer": "ipython2",
   "version": "2.7.10"
  }
 },
 "nbformat": 4,
 "nbformat_minor": 0
}

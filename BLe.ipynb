{
 "cells": [
  {
   "cell_type": "code",
   "execution_count": 11,
   "metadata": {
    "collapsed": false
   },
   "outputs": [
    {
     "name": "stdout",
     "output_type": "stream",
     "text": [
      "{'name': 'BLE GamePad', 'address': ['1d', '2a', '05', '50', 'a0', '00']}\n"
     ]
    }
   ],
   "source": [
    "import serial\n",
    "import time\n",
    "import binascii\n",
    "from struct import *\n",
    "class CySmart:\n",
    "    Commands = {\n",
    "        'CMD_Hedder':binascii.unhexlify(\"4359\"),\n",
    "        'CMD_Footer':binascii.unhexlify(\"0000\"),\n",
    "        'CMD_INIT_BLE_STACK':binascii.unhexlify(\"07FC\"),\n",
    "        'CMD_START_SCAN':binascii.unhexlify(\"93FE\"),\n",
    "        'CMD_STOP_SCAN':binascii.unhexlify(\"94FE\"),\n",
    "        'CMD_ESTABLISH_CONNECTION':binascii.unhexlify(\"97FE\"),\n",
    "        'CMD_TERMINATE_CONNECTION':binascii.unhexlify(\"98FE\"),\n",
    "        'CMD_EXCHANGE_GATT_MTU_SIZE':binascii.unhexlify(\"12FE\"),\n",
    "        'CMD_READ_USING_CHARACTERISTIC_UUID':binascii.unhexlify(\"07FE\"),\n",
    "        'CMD_FIND_INCLUDED_SERVICES':binascii.unhexlify(\"02FE\"),\n",
    "        'CMD_DISCOVER_ALL_CHARACTERISTICS':binascii.unhexlify(\"03FE\")\n",
    "    }\n",
    "    \n",
    "    \n",
    "    CYSMT_EVT_HEADER_CODE = binascii.unhexlify(\"BDA7\")\n",
    "    EVT_SCAN_PROGRESS_RESULT = binascii.unhexlify(\"8A06\")\n",
    "    EVT_COMMAND_STATUS =  binascii.unhexlify(\"7E04\")\n",
    "    EVT_COMMAND_COMPLETE =  binascii.unhexlify(\"7F04\")\n",
    "\n",
    "    def __init__(self, ComPort='\\\\.\\COM6'):\n",
    "        self.serin = serial.Serial(ComPort, 115200, timeout=3)\n",
    "        self.serin.isOpen()\n",
    "\n",
    "    def hexPrint(self,s):\n",
    "        return \":\".join(\"{:02x}\".format(ord(c)) for c in s)\n",
    "    \n",
    "    def hexArray(self,s):\n",
    "        return self.hexPrint(s).split(\":\")\n",
    "    \n",
    "    def sendCommand(self,command,timeout = 3):\n",
    "        self.serin.write(self.Commands['CMD_Hedder']+command+self.Commands['CMD_Footer'])\n",
    "        self.serin.flush()\n",
    "        time.sleep(.1)\n",
    "        return self.prossesOutput()\n",
    "    \n",
    "    \n",
    "    def prossesOutput(self):\n",
    "        payloads = {}\n",
    "        while self.serin.inWaiting():\n",
    "            hedderTest = self.serin.read(2)\n",
    "            if self.CYSMT_EVT_HEADER_CODE in hedderTest:\n",
    "                #Have Hedder message\n",
    "                mesageLen = self.serin.read(2)\n",
    "                mesageLen = unpack('h',mesageLen)[0]\n",
    "                message = self.serin.read(mesageLen)\n",
    "                if len(message) > 4:\n",
    "                # have message                   \n",
    "                    event, command = unpack('2s2s', message[0:4])\n",
    "                    body = message[4:]\n",
    "                    if event not in payloads:\n",
    "                         payloads[event] = []      \n",
    "                    payloads[event].append({'cmd':command, 'body':body})\n",
    "            else:\n",
    "                time.sleep(.1)\n",
    "        return payloads\n",
    "        \n",
    "    def getScanData(self,cyd):\n",
    "        Ble = {'address':[], 'name':\"\"}\n",
    "        \n",
    "        if self.EVT_SCAN_PROGRESS_RESULT in cyd:\n",
    "            for scan in cyd[self.EVT_SCAN_PROGRESS_RESULT]:\n",
    "                if len(scan['body']) > 10:\n",
    "                    inputString = scan['body']\n",
    "                    Ble['address'] =  self.hexArray(inputString)[1:7]\n",
    "                    if '\\t' in inputString:\n",
    "                        nm_length=  int(self.hexArray(inputString.split('\\t')[0])[-1],16)-1\n",
    "                        Ble['name'] = inputString.split('\\t')[1][0:nm_length]\n",
    "        return Ble\n",
    "    def openConection(self,address):\n",
    "        \n",
    "        ads = \"\".join(\"{:s}\".format(c) for c in address)\n",
    "        # Address type is followed by address\n",
    "        ads = self.Commands['CMD_ESTABLISH_CONNECTION'] +\"0700\"+ ads\n",
    "        print self.sendCommand(ads)\n",
    "        \n",
    "        #CYBLE_GATT_XCHG_MTU_PARAM #4359 12FE 04 0004000002\n",
    "        #CMD_READ_USING_CHARACTERISTIC_UUID 4359 07FE 09 0004 0001 002A0100FFFF\n",
    "    def close_Conection(self):\n",
    "        #CMD_TERMINATE_CONNECTION 4359 98FE 02000400\n",
    "        pass\n",
    "    \n",
    "    def close(self):\n",
    "        self.serin.close()\n",
    "        \n",
    "        \n",
    "cy = CySmart()\n",
    "cy.sendCommand(cy.Commands['CMD_INIT_BLE_STACK'])\n",
    "cyd= cy.sendCommand(cy.Commands['CMD_START_SCAN'])\n",
    "time.sleep(3)\n",
    "cy.sendCommand(cy.Commands['CMD_STOP_SCAN'])\n",
    "cy.close()\n",
    "\n",
    "print cy.getScanData(cyd)"
   ]
  },
  {
   "cell_type": "code",
   "execution_count": 8,
   "metadata": {
    "collapsed": false
   },
   "outputs": [
    {
     "name": "stdout",
     "output_type": "stream",
     "text": [
      "{'name': 'BLE GamePad', 'address': ['1d', '2a', '05', '50', 'a0']}\n"
     ]
    }
   ],
   "source": [
    "\n",
    "        print cy.getScanData(scan['body'])"
   ]
  },
  {
   "cell_type": "code",
   "execution_count": 14,
   "metadata": {
    "collapsed": false
   },
   "outputs": [
    {
     "name": "stdout",
     "output_type": "stream",
     "text": [
      "1d2a0550a0\n"
     ]
    }
   ],
   "source": [
    "test = ['1d', '2a', '05', '50', 'a0']\n",
    "print"
   ]
  },
  {
   "cell_type": "code",
   "execution_count": 7,
   "metadata": {
    "collapsed": false
   },
   "outputs": [
    {
     "data": {
      "text/plain": [
       "('~\\x04', '\\x07\\xfc')"
      ]
     },
     "execution_count": 7,
     "metadata": {},
     "output_type": "execute_result"
    }
   ],
   "source": [
    "\n",
    "resdt2 = b'\\x7E\\x04\\x07\\xFC\\x00\\x00'\n",
    "unpack('2s2sxx',resdt2)\n"
   ]
  },
  {
   "cell_type": "code",
   "execution_count": null,
   "metadata": {
    "collapsed": true
   },
   "outputs": [],
   "source": []
  }
 ],
 "metadata": {
  "kernelspec": {
   "display_name": "Python 2",
   "language": "python",
   "name": "python2"
  },
  "language_info": {
   "codemirror_mode": {
    "name": "ipython",
    "version": 2
   },
   "file_extension": ".py",
   "mimetype": "text/x-python",
   "name": "python",
   "nbconvert_exporter": "python",
   "pygments_lexer": "ipython2",
   "version": "2.7.10"
  }
 },
 "nbformat": 4,
 "nbformat_minor": 0
}

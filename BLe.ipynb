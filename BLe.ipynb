{
 "cells": [
  {
   "cell_type": "code",
   "execution_count": 1,
   "metadata": {
    "collapsed": false
   },
   "outputs": [
    {
     "name": "stdout",
     "output_type": "stream",
     "text": [
      "BLE GamePad\n",
      "03 ['\\x04\\x00\\x0b\\x00BLE GamePad']\n",
      "05 ['\\x04\\x00\\x02\\x00\\xc4\\x03']\n",
      "07 ['\\x04\\x00\\x08\\x00\\x08\\x00\\x08\\x00\\x19\\x00\\xc8\\x00']\n",
      "0a ['\\x04\\x00\\x04\\x00\\x00\\x00\\x00\\x00']\n",
      "0e ['\\x04\\x00\\x16\\x00\\x05\\x01\\t\\x05\\xa1\\x01\\x85\\x01\\t\\x01\\xa1\\x00\\t0\\t1\\x15\\x81%\\x7fu\\x08']\n",
      "10 ['\\x04\\x00\\x04\\x00\\x00\\x00\\x00\\x00']\n",
      "14 ['\\x04\\x00\\x04\\x00\\x01\\x01\\x00\\x03']\n",
      "18 ['\\x04\\x00\\x01\\x00\\x01']\n",
      "1d ['\\x04\\x00\\x04\\x001.00']\n",
      "1f ['\\x04\\x00\\x07\\x00\\x02\\xb4\\x04\\x05\\x00\\x01\\x00']\n",
      "22 ['\\x04\\x00\\x01\\x00d']\n"
     ]
    }
   ],
   "source": [
    "import serial\n",
    "import time\n",
    "import binascii\n",
    "from struct import *\n",
    "class CySmart:\n",
    "    Commands = {\n",
    "        'CMD_Resolve_and_Set_Peer_Device_BD_Address':binascii.unhexlify(\"A1FE\"),\n",
    "        'CMD_Hedder':binascii.unhexlify(\"4359\"),\n",
    "        'CMD_Footer':binascii.unhexlify(\"0000\"),\n",
    "        'CMD_INIT_BLE_STACK':binascii.unhexlify(\"07FC\"),\n",
    "        'CMD_START_SCAN':binascii.unhexlify(\"93FE\"),\n",
    "        'CMD_STOP_SCAN':binascii.unhexlify(\"94FE\"),\n",
    "        'CMD_ESTABLISH_CONNECTION':binascii.unhexlify(\"97FE\"),\n",
    "        'CMD_TERMINATE_CONNECTION':binascii.unhexlify(\"98FE\"),\n",
    "        'CMD_EXCHANGE_GATT_MTU_SIZE':binascii.unhexlify(\"12FE\"),\n",
    "        'CMD_READ_CHARACTERISTIC_VALUE':binascii.unhexlify(\"06FE\"),\n",
    "        'CMD_READ_USING_CHARACTERISTIC_UUID':binascii.unhexlify(\"07FE\"),\n",
    "        'CMD_FIND_INCLUDED_SERVICES':binascii.unhexlify(\"02FE\"),\n",
    "        'CMD_DISCOVER_ALL_CHARACTERISTICS':binascii.unhexlify(\"03FE\"),\n",
    "        'CMD_INITIATE_PAIRING_REQUEST':binascii.unhexlify(\"99FE\")\n",
    "    }\n",
    "    \n",
    "    \n",
    "    Flag_DISABLE_ALL_CHECK = 0x00\n",
    "    Flag_CHECK_PARAMETER_LENGTH = 0x1\n",
    "    Flag_IMMEDIATE_RESPONSE = 0x2\n",
    "    Flag_API_RETURN = 0x4\n",
    "    Flag_TRIGGER_COMPLETE = 0x8\n",
    "    Flag_SECONDARY_CMD = 0x10\n",
    "    \n",
    "    CYSMT_EVT_HEADER_CODE = binascii.unhexlify(\"BDA7\")\n",
    "    EVT_SCAN_PROGRESS_RESULT = binascii.unhexlify(\"8A06\")\n",
    "    EVT_COMMAND_STATUS =  binascii.unhexlify(\"7E04\")\n",
    "    EVT_COMMAND_COMPLETE =  binascii.unhexlify(\"7F04\")\n",
    "    EVT_READ_CHARACTERISTIC_VALUE_RESPONSE  =  binascii.unhexlify(\"0606\")\n",
    "\n",
    "    def __init__(self, ComPort='\\\\.\\COM6'):\n",
    "        self.serin = serial.Serial(ComPort, 115200, timeout=3)\n",
    "        self.serin.isOpen()\n",
    "\n",
    "    def hexPrint(self,s):\n",
    "        if type(s) is not int:\n",
    "            return \":\".join(\"{:02x}\".format(ord(c)) for c in s)\n",
    "        return \"{:02x}\".format(s)\n",
    "    \n",
    "    def hexArray(self,s):\n",
    "        return self.hexPrint(s).split(\":\")\n",
    "    \n",
    "    def sendCommand(self,command, hedder = True, footer = True):\n",
    "        cmd = \"\"\n",
    "        if hedder:\n",
    "            cmd += self.Commands['CMD_Hedder']\n",
    "        cmd += command\n",
    "        \n",
    "        if footer:\n",
    "            cmd+= self.Commands['CMD_Footer']\n",
    "        \n",
    "        self.serin.write(cmd)\n",
    "        self.serin.flush()\n",
    "        time.sleep(.1)\n",
    "        return self.prossesOutput()\n",
    "    \n",
    "    \n",
    "    def prossesOutput(self):\n",
    "        payloads = {}\n",
    "        time.sleep(.1)\n",
    "        while self.serin.inWaiting():\n",
    "            hedderTest = self.serin.read(2)\n",
    "            if self.CYSMT_EVT_HEADER_CODE in hedderTest:\n",
    "                #Have Hedder message\n",
    "                mesageLen = self.serin.read(2)\n",
    "                mesageLen = unpack('h',mesageLen)[0]\n",
    "                message = self.serin.read(mesageLen)\n",
    "                if len(message) > 4:\n",
    "                # have message                   \n",
    "                    event, command = unpack('2s2s', message[0:4])\n",
    "                    body = message[4:]\n",
    "                    if event not in payloads:\n",
    "                         payloads[event] = []      \n",
    "                    payloads[event].append(body)\n",
    "            else:\n",
    "                time.sleep(.1)\n",
    "        return payloads\n",
    "        \n",
    "    def getScanData(self,cyd):\n",
    "        Ble = {'address':[], 'name':\"\"}\n",
    "        \n",
    "        if self.EVT_SCAN_PROGRESS_RESULT in cyd:\n",
    "            for scan in cyd[self.EVT_SCAN_PROGRESS_RESULT]:\n",
    "                if len(scan) > 10:\n",
    "                    inputString = scan\n",
    "                    Ble['address'] = inputString[1:6]\n",
    "                    if '\\t' in inputString:\n",
    "                        nm_length=  int(self.hexArray(inputString.split('\\t')[0])[-1],16)-1\n",
    "                        Ble['name'] = inputString.split('\\t')[1][0:nm_length]\n",
    "        return Ble\n",
    "    \n",
    "    \n",
    "    def openConection(self,address):\n",
    "        out = {'CMD_Resolve_and_Set_Peer_Device_BD_Address':{},\n",
    "               'CMD_ESTABLISH_CONNECTION':{},\n",
    "               'EXCHANGE_GATT_MTU_SIZE':{},\n",
    "               'Read_using_Characteristic_UUID':{}\n",
    "               }\n",
    "        \n",
    "        cmd = cy.Commands['CMD_Resolve_and_Set_Peer_Device_BD_Address']+ binascii.unhexlify(\"0700\") +address \n",
    "        out['CMD_Resolve_and_Set_Peer_Device_BD_Address'] = self.sendCommand(cmd)\n",
    "        \n",
    "        cmd = cy.Commands['CMD_ESTABLISH_CONNECTION'] + binascii.unhexlify(\"0700\") +address\n",
    "        out['CMD_ESTABLISH_CONNECTION'] = self.sendCommand(cmd)\n",
    "        \n",
    "        out['EXCHANGE_GATT_MTU_SIZE'] = self.EXCHANGE_GATT_MTU_SIZE(0x0200)\n",
    "        out['Read_using_Characteristic_UUID'] = self.Read_using_Characteristic_UUID(0x0001,0xFFFF,0x2A00)\n",
    "        return out\n",
    "        \n",
    "    def close_Conection(self):\n",
    "        cmd = cy.Commands['CMD_TERMINATE_CONNECTION']\n",
    "        cmd += binascii.unhexlify(\"02000400\")\n",
    "        return self.sendCommand(cmd)\n",
    "    \n",
    "    def API_RETURN(self,pack,prams):\n",
    "        values = (self.Flag_API_RETURN,)\n",
    "        if type(prams) == tuple and type(pack) == str:\n",
    "             values += prams\n",
    "                \n",
    "        pack = '=B '+ pack\n",
    "        s = Struct(pack)\n",
    "        packed_data = s.pack(*values)\n",
    "        h=Struct('H')\n",
    "        packsize = h.pack(s.size) \n",
    "        packed_data = packsize + packed_data\n",
    "        return packed_data\n",
    "    \n",
    "    def EXCHANGE_GATT_MTU_SIZE(self,size):\n",
    "        cmd = cy.Commands['CMD_EXCHANGE_GATT_MTU_SIZE']\n",
    "        cmd += self.API_RETURN('H',(0x200,))\n",
    "        return self.sendCommand(cmd,footer=False)\n",
    "    \n",
    "    def Read_using_Characteristic_UUID(self,Start_Handle,End_Handle,UUID):\n",
    "        cmd = self.Commands['CMD_READ_USING_CHARACTERISTIC_UUID']\n",
    "        cmd += self.API_RETURN('H H H H',(0x100, UUID, Start_Handle, End_Handle))\n",
    "        return self.sendCommand(cmd,footer=False)\n",
    "    \n",
    "    def Read_Characteristic_Value(self,Attribute):\n",
    "        cmd = self.Commands['CMD_READ_CHARACTERISTIC_VALUE']\n",
    "        cmd += pack('H H H',*(cy.Flag_API_RETURN, cy.Flag_API_RETURN, Attribute ))\n",
    "        return self.sendCommand(cmd,footer=False)\n",
    "    \n",
    "    def Read_All_characteristics(self):\n",
    "        data_set = {0x0003:{},\n",
    "                    0x0005:{},\n",
    "                    0x0007:{},\n",
    "                    0x000A:{},\n",
    "                    0x000E:{},\n",
    "                    0x0010:{},\n",
    "                    0x0014:{},\n",
    "                    0x0018:{},\n",
    "                    0x001D:{},\n",
    "                    0x001F:{},\n",
    "                    0x0022:{}\n",
    "                    }\n",
    "        for se in data_set:\n",
    "            Characteristic_Value = self.Read_Characteristic_Value(se)\n",
    "            \n",
    "            if self.EVT_READ_CHARACTERISTIC_VALUE_RESPONSE in Characteristic_Value:\n",
    "                data_set[se] = Characteristic_Value[self.EVT_READ_CHARACTERISTIC_VALUE_RESPONSE]\n",
    "        return data_set\n",
    "    \n",
    "    def Initiate_Pairing(self):\n",
    "        cmd = self.Commands['CMD_INITIATE_PAIRING_REQUEST']\n",
    "        cmd += pack('H H',*(cy.Flag_IMMEDIATE_RESPONSE, cy.Flag_API_RETURN ))\n",
    "        return self.sendCommand(cmd,footer=False)\n",
    "            \n",
    "    def close(self):\n",
    "        self.serin.close()\n",
    "        \n",
    "        \n",
    "cy = CySmart()\n",
    "cy.sendCommand(cy.Commands['CMD_INIT_BLE_STACK'])\n",
    "cyd= cy.sendCommand(cy.Commands['CMD_START_SCAN'])\n",
    "time.sleep(3)\n",
    "cy.sendCommand(cy.Commands['CMD_STOP_SCAN'])\n",
    "\n",
    "if cy.EVT_SCAN_PROGRESS_RESULT in cyd:\n",
    "    client = cy.getScanData(cyd)\n",
    "    print client['name']\n",
    "    cy.openConection(client['address'])\n",
    "    cy.Initiate_Pairing()\n",
    "    allcs =  cy.Read_All_characteristics()\n",
    "    for cs in allcs:\n",
    "        print cy.hexPrint(cs), allcs[cs]\n",
    "    cy.close_Conection()\n",
    "else:\n",
    "     print \"nothing found:\"\n",
    "cy.close()\n",
    "\n"
   ]
  },
  {
   "cell_type": "code",
   "execution_count": 3,
   "metadata": {
    "collapsed": false
   },
   "outputs": [
    {
     "name": "stdout",
     "output_type": "stream",
     "text": [
      "\u0001\u0000\u0004\n"
     ]
    }
   ],
   "source": [
    "\n",
    "print cy.API_RETURN('',0)"
   ]
  },
  {
   "cell_type": "code",
   "execution_count": 14,
   "metadata": {
    "collapsed": false
   },
   "outputs": [
    {
     "name": "stdout",
     "output_type": "stream",
     "text": [
      "1d2a0550a0\n"
     ]
    }
   ],
   "source": [
    "test = ['1d', '2a', '05', '50', 'a0']\n",
    "print"
   ]
  },
  {
   "cell_type": "code",
   "execution_count": 19,
   "metadata": {
    "collapsed": false
   },
   "outputs": [
    {
     "name": "stdout",
     "output_type": "stream",
     "text": [
      "Original values: 4\n",
      "Format string  : H H H\n",
      "Uses           : 6 bytes\n",
      "Packed Value   : 040004000700\n",
      "040004000700\n"
     ]
    }
   ],
   "source": [
    "s=Struct('H H H')\n",
    "packed_data= s.pack(*(cy.Flag_API_RETURN,cy.Flag_API_RETURN,0x0007))\n",
    "\n",
    "print 'Original values:', cy.Flag_API_RETURN\n",
    "print 'Format string  :', s.format\n",
    "print 'Uses           :', s.size, 'bytes'\n",
    "print 'Packed Value   :', binascii.hexlify(packed_data)\n",
    "#packed_data =  pack('=H',s.size)  + packed_data\n",
    "print binascii.hexlify(packed_data)\n",
    "\n"
   ]
  },
  {
   "cell_type": "code",
   "execution_count": 21,
   "metadata": {
    "collapsed": false
   },
   "outputs": [
    {
     "name": "stdout",
     "output_type": "stream",
     "text": [
      "3\n",
      "5\n",
      "7\n",
      "10\n",
      "14\n",
      "16\n",
      "20\n",
      "24\n",
      "29\n",
      "31\n",
      "34\n",
      "{3: {1: 'test'}, 5: {1: 'test'}, 7: {1: 'test'}, 10: {1: 'test'}, 14: {1: 'test'}, 16: {1: 'test'}, 20: {1: 'test'}, 24: {1: 'test'}, 29: {1: 'test'}, 31: {1: 'test'}, 34: {1: 'test'}}\n"
     ]
    }
   ],
   "source": [
    "data_set = {0x0003:{},\n",
    "                    0x0005:{},\n",
    "                    0x0007:{},\n",
    "                    0x000A:{},\n",
    "                    0x000E:{},\n",
    "                    0x0010:{},\n",
    "                    0x0014:{},\n",
    "                    0x0018:{},\n",
    "                    0x001D:{},\n",
    "                    0x001F:{},\n",
    "                    0x0022:{}\n",
    "                    }\n",
    "for se in data_set:\n",
    "    print se\n",
    "    data_set[se] = {1:'test'}\n",
    "print data_set"
   ]
  },
  {
   "cell_type": "code",
   "execution_count": null,
   "metadata": {
    "collapsed": true
   },
   "outputs": [],
   "source": [
    "{'\\x7f\\x04': [{'body': '\\x00\\x00', 'cmd': '\\x06\\xfe'}], '~\\x04': [{'body': '\\x00\\x00', 'cmd': '\\x06\\xfe'}], '\\x06\\x06': [{'body': '\\x04\\x00\\x0b\\x00BLE GamePad', 'cmd': '\\x06\\xfe'}]}"
   ]
  }
 ],
 "metadata": {
  "kernelspec": {
   "display_name": "Python 2",
   "language": "python",
   "name": "python2"
  },
  "language_info": {
   "codemirror_mode": {
    "name": "ipython",
    "version": 2
   },
   "file_extension": ".py",
   "mimetype": "text/x-python",
   "name": "python",
   "nbconvert_exporter": "python",
   "pygments_lexer": "ipython2",
   "version": "2.7.10"
  }
 },
 "nbformat": 4,
 "nbformat_minor": 0
}

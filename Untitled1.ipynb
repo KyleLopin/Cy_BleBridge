{
 "cells": [
  {
   "cell_type": "code",
   "execution_count": 4,
   "metadata": {
    "collapsed": false
   },
   "outputs": [
    {
     "ename": "ImportError",
     "evalue": "No module named feedparser",
     "output_type": "error",
     "traceback": [
      "\u001b[1;31m---------------------------------------------------------------------------\u001b[0m",
      "\u001b[1;31mImportError\u001b[0m                               Traceback (most recent call last)",
      "\u001b[1;32m<ipython-input-4-f78e07a71f90>\u001b[0m in \u001b[0;36m<module>\u001b[1;34m()\u001b[0m\n\u001b[0;32m      5\u001b[0m \u001b[1;33m\u001b[0m\u001b[0m\n\u001b[0;32m      6\u001b[0m \u001b[1;31m# Local modules\u001b[0m\u001b[1;33m\u001b[0m\u001b[1;33m\u001b[0m\u001b[0m\n\u001b[1;32m----> 7\u001b[1;33m \u001b[1;32mimport\u001b[0m \u001b[0mfeedparser\u001b[0m\u001b[1;33m\u001b[0m\u001b[0m\n\u001b[0m\u001b[0;32m      8\u001b[0m \u001b[1;33m\u001b[0m\u001b[0m\n\u001b[0;32m      9\u001b[0m \u001b[1;31m# Set up some global variables\u001b[0m\u001b[1;33m\u001b[0m\u001b[1;33m\u001b[0m\u001b[0m\n",
      "\u001b[1;31mImportError\u001b[0m: No module named feedparser"
     ]
    }
   ],
   "source": [
    "import Queue\n",
    "\n",
    "class Job(object):\n",
    "    def __init__(self, priority, description):\n",
    "        self.priority = priority\n",
    "        self.description = description\n",
    "        print 'New job:', description\n",
    "        return\n",
    "    def __cmp__(self, other):\n",
    "        return cmp(self.priority, other.priority)\n",
    "\n",
    "q = Queue.PriorityQueue()\n",
    "\n",
    "q.put( Job(3, 'Mid-level job') )\n",
    "q.put( Job(10, 'Low-level job') )\n",
    "q.put( Job(1, 'Important job') )\n",
    "\n",
    "while not q.empty():\n",
    "    next_job = q.get()\n",
    "    print 'Processing job:', next_job.description\n"
   ]
  },
  {
   "cell_type": "code",
   "execution_count": null,
   "metadata": {
    "collapsed": true
   },
   "outputs": [],
   "source": [
    "             for packet in data:\n",
    "                    if data[packet]['cmd'] == \"7F04\" or data[packet]['cmd'] == \"7E04\":\n",
    "                        if data[packet]['cmd'] == \"7F04\" and data[packet]['request_cmd']  == :\n",
    "                            self.nextJob = True \n",
    "                    else:\n",
    "                        self.out_Q.put(data[packet])"
   ]
  },
  {
   "cell_type": "code",
   "execution_count": null,
   "metadata": {
    "collapsed": true
   },
   "outputs": [],
   "source": [
    "if cmd in responce['request_cmd']:\n",
    "                        if '7e' in responce['cmd'] or '7f' in responce['cmd'] :\n",
    "\n",
    "                            #print cmd\n",
    "                            if '7f' in responce['cmd']:\n",
    "                                self.nextJob = True\n",
    "                        else:\n",
    "                            print \"responce:\", responce.playload\n",
    "                            self.out_Q.put(responce.playload)"
   ]
  }
 ],
 "metadata": {
  "kernelspec": {
   "display_name": "Python 2",
   "language": "python",
   "name": "python2"
  },
  "language_info": {
   "codemirror_mode": {
    "name": "ipython",
    "version": 2
   },
   "file_extension": ".py",
   "mimetype": "text/x-python",
   "name": "python",
   "nbconvert_exporter": "python",
   "pygments_lexer": "ipython2",
   "version": "2.7.10"
  }
 },
 "nbformat": 4,
 "nbformat_minor": 0
}
